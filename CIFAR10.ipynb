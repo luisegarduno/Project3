{
 "cells": [
  {
   "cell_type": "markdown",
   "id": "80a4febf-e132-480b-8749-a674747a54da",
   "metadata": {},
   "source": [
    "# Project 3 : Part 1\n",
    "\n",
    "### Luis Garduno\n",
    "\n",
    "## 1. About CIFAR-10\n",
    "\n",
    "The CIFAR-10 dataset is a dataset of gathered from the [80 million tiny images](http://people.csail.mit.edu/torralba/tinyimages/) dataset, containing a combination of images of animals and transportation objects. Within the dataset there are 6 animal & 4 transportation object classes:\n",
    "\n",
    "- **Animals :** bird, cat, deer, dog, frog, horse\n",
    "- **Transportation Objects :** airplane, automobile, ship, truck\n",
    "\n",
    "----------------------\n",
    "\n",
    "Dataset/s:\n",
    "- [CIFAR-10 (python version)](https://www.cs.toronto.edu/~kriz/cifar-10-python.tar.gz)\n",
    "- [CIFAR-10 (binary version)](https://www.cs.toronto.edu/~kriz/cifar-10-binary.tar.gz)\n",
    "    \n",
    "-----------------------\n",
    "\n",
    "## 2. Data Preparation\n",
    "\n",
    "###  &nbsp;&nbsp;&nbsp;&nbsp;&nbsp;&nbsp; 2.1 Loading Data & Adjustments"
   ]
  },
  {
   "cell_type": "code",
   "execution_count": 1,
   "id": "3dd241cd-14d9-4051-9a0c-00db2f7ddead",
   "metadata": {},
   "outputs": [
    {
     "name": "stdout",
     "output_type": "stream",
     "text": [
      "=========== Classes ===========\n",
      "0 : airplane\n",
      "1 : automobile\n",
      "2 : bird\n",
      "3 : cat\n",
      "4 : deer\n",
      "5 : dog\n",
      "6 : frog\n",
      "7 : horse\n",
      "8 : ship\n",
      "9 : truck\n",
      "\n",
      "# of Cases Per Batch: 10000\n",
      "# Channel Values (Size): 3072\n"
     ]
    }
   ],
   "source": [
    "import glob\n",
    "import pickle\n",
    "import numpy as np\n",
    "import pandas as pd\n",
    "\n",
    "from PIL import Image\n",
    "from tkinter import Tcl\n",
    "from sklearn import preprocessing\n",
    "\n",
    "# Directory - Python dataset, Binary dataset, & file name of batch files (python)\n",
    "PY_DATA_PATH = './data/cifar-10-python/cifar-10-batches-py'\n",
    "BIN_DATA_PATH = './data/cifar-10-binary/cifar-10-batches-bin/data_batch_1.bin'\n",
    "BATCHES_PATH = ['/data_batch_1', '/data_batch_2', '/data_batch_3', '/data_batch_4', '/data_batch_5', '/test_batch']\n",
    "\n",
    "le = preprocessing.LabelEncoder()\n",
    "\n",
    "# Load list of labels/classes (once dataset file has been extracted)\n",
    "\n",
    "# -------- Method 1 -------------------------------------\n",
    "#with open(BIN_DATA_PATH + '/batches.meta.txt', 'r') as f:\n",
    "#    class_names = [line.rstrip() for line in f]\n",
    "\n",
    "# -------- Method 2 -------------------------------------\n",
    "with open(PY_DATA_PATH + '/batches.meta', 'rb') as fo:\n",
    "    batches_meta = pickle.load(fo)\n",
    "    class_names = batches_meta['label_names']\n",
    "    \n",
    "print(\"=========== Classes ===========\")\n",
    "for i in range(len(class_names)): print(i,\":\", class_names[i])\n",
    "print(\"\\n# of Cases Per Batch:\", batches_meta['num_cases_per_batch'])\n",
    "print(\"# Channel Values (Size):\", batches_meta['num_vis'])"
   ]
  },
  {
   "cell_type": "code",
   "execution_count": 2,
   "id": "b3b64ffc-0831-480a-b3e4-2e046ac81394",
   "metadata": {},
   "outputs": [],
   "source": [
    "from __future__ import print_function\n",
    "from imageio import imsave\n",
    "import os, sys, tarfile, errno, urllib\n",
    "\n",
    "import matplotlib.pyplot as plt\n",
    "%matplotlib inline\n",
    "\n",
    "# Image shape - h : HEIGHT, w : WIDTH, d : DEPTH\n",
    "h = 32\n",
    "w = 32\n",
    "d = 3\n",
    "\n",
    "# Size of a single image in bytes\n",
    "SIZE = h * w * d\n",
    "\n",
    "def read_single_image(image_file):\n",
    "    img = np.fromfile(image_file, dtype=np.uint8, count=batches_meta['num_vis'])\n",
    "    img = np.reshape(img, (d, h, w))\n",
    "    img = np.transpose(img, (1, 2, 0))\n",
    "    return img\n",
    "\n",
    "def read_all_images(path_to_data):\n",
    "    with open(path_to_data, 'rb') as f:\n",
    "        all_data = np.fromfile(f, dtype=np.uint8)\n",
    "        imgs = np.reshape(all_data, (-1, d, h, w))\n",
    "        imgs = np.transpose(imgs, (1, 3, 2, 0))\n",
    "        return imgs\n",
    "\n",
    "def plot_image(img):\n",
    "    plt.imshow(img)\n",
    "    plt.show()\n",
    "    \n",
    "# unpickle : convert 'pickled' object into a dict\n",
    "def unpickle(file):\n",
    "    with open(file, 'rb') as fo:\n",
    "        dict = pickle.load(fo, encoding='bytes')\n",
    "    return dict\n",
    "\n",
    "# cleanDict : Converts dict(bytes) --> dict(uint8)\n",
    "def cleanDict(batch_dict):\n",
    "    for i in list(batch_dict.keys()): batch_dict[i.decode()] = batch_dict.pop(i)\n",
    "    batch_dict['batch_label'] = batch_dict['batch_label'].decode()\n",
    "    for i in range(len(list(batch_dict['filenames']))): batch_dict['filenames'][i] = batch_dict['filenames'][i].decode()\n",
    "    return batch_dict"
   ]
  },
  {
   "cell_type": "code",
   "execution_count": 3,
   "id": "a7781169-3718-4693-9e21-1c51052e5525",
   "metadata": {},
   "outputs": [
    {
     "name": "stdout",
     "output_type": "stream",
     "text": [
      "--> training batch 1 of 5\n"
     ]
    },
    {
     "data": {
      "image/png": "[encoded data removed]",
      "text/plain": [
       "<Figure size 432x288 with 1 Axes>"
      ]
     },
     "metadata": {
      "needs_background": "light"
     },
     "output_type": "display_data"
    },
    {
     "name": "stdout",
     "output_type": "stream",
     "text": [
      "- Class: frog \n",
      "- Filename: leptodactylus_pentadactylus_s_000004.png\n"
     ]
    }
   ],
   "source": [
    "# Load each batch set into a dict w/ bytes type values,\n",
    "# Convert: dict(bytes) --> dict(uint8)\n",
    "batch_1 = cleanDict(unpickle(PY_DATA_PATH + BATCHES_PATH[0]))\n",
    "batch_2 = cleanDict(unpickle(PY_DATA_PATH + BATCHES_PATH[1])) \n",
    "batch_3 = cleanDict(unpickle(PY_DATA_PATH + BATCHES_PATH[2]))\n",
    "batch_4 = cleanDict(unpickle(PY_DATA_PATH + BATCHES_PATH[3]))\n",
    "batch_5 = cleanDict(unpickle(PY_DATA_PATH + BATCHES_PATH[4]))\n",
    "\n",
    "print(\"-->\", batch_1['batch_label'], \"\\n\")\n",
    "\n",
    "# Print 1 image\n",
    "with open(BIN_DATA_PATH) as f:\n",
    "    image = read_single_image(f)\n",
    "    plot_image(image)\n",
    "print(\"- Class:\", class_names[batch_1['labels'][0]], \"\\n- Filename:\", batch_1['filenames'][0])"
   ]
  },
  {
   "cell_type": "code",
   "execution_count": null,
   "id": "e3627e1e-cccd-458e-84a1-286d2fbd8374",
   "metadata": {},
   "outputs": [],
   "source": []
  },
  {
   "cell_type": "code",
   "execution_count": null,
   "id": "baf81743-0cea-4c65-be4f-d3cee44d329f",
   "metadata": {},
   "outputs": [],
   "source": []
  }
 ],
 "metadata": {
  "kernelspec": {
   "display_name": "Python 3 (ipykernel)",
   "language": "python",
   "name": "python3"
  },
  "language_info": {
   "codemirror_mode": {
    "name": "ipython",
    "version": 3
   },
   "file_extension": ".py",
   "mimetype": "text/x-python",
   "name": "python",
   "nbconvert_exporter": "python",
   "pygments_lexer": "ipython3",
   "version": "3.8.8"
  }
 },
 "nbformat": 4,
 "nbformat_minor": 5
}
