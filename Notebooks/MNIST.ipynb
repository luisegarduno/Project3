{
 "cells": [
  {
   "cell_type": "markdown",
   "id": "d76dc3a6-0af3-431e-a7b0-f7605eee5ba7",
   "metadata": {},
   "source": [
    "# Project 3 : Part 2\n",
    "\n",
    "### Luis Garduno\n",
    "\n",
    "## 1. About Fashion MNIST Dataset\n",
    "\n",
    "----------------------------------------\n",
    "\n",
    "Dataset: [Fashion MNIST](https://github.com/zalandoresearch/fashion-mnist)\n",
    "\n",
    "----------------------------------------\n",
    "\n",
    "## 2. Data Preparation\n",
    "\n",
    "###  &nbsp;&nbsp;&nbsp;&nbsp;&nbsp;&nbsp; 2.1 Loading Data & Adjustments"
   ]
  },
  {
   "cell_type": "code",
   "execution_count": 1,
   "id": "b7be910a-a6c6-4346-bc1c-9b5332aaf04e",
   "metadata": {},
   "outputs": [
    {
     "name": "stderr",
     "output_type": "stream",
     "text": [
      "2022-04-12 06:55:34.248407: I tensorflow/stream_executor/platform/default/dso_loader.cc:49] Successfully opened dynamic library libcudart.so.10.1\n"
     ]
    }
   ],
   "source": [
    "import tensorflow as tf\n",
    "from tensorflow import keras\n",
    "\n",
    "fashion_mnist = keras.datasets.fashion_mnist\n",
    "(X_train, y_train), (X_test, y_test) = fashion_mnist.load_data()"
   ]
  },
  {
   "cell_type": "code",
   "execution_count": 2,
   "id": "ce13e63d-04d6-4437-b6d4-6f32526c3296",
   "metadata": {},
   "outputs": [],
   "source": [
    "class_names = [\"T-shirt/top\", \"Trouser\", \"Pullover\", \"Dress\", \"Coat\", \"Sandal\", \"Shirt\", \"Sneaker\", \"Bag\", \"Ankle boot\"]"
   ]
  },
  {
   "cell_type": "code",
   "execution_count": 3,
   "id": "df4724e3-e0b8-47f4-95b9-fbd67554d9aa",
   "metadata": {},
   "outputs": [],
   "source": [
    "from sklearn.preprocessing import StandardScaler\n",
    "\n",
    "X_test, X_train = X_train[:5000] / 255.0, X_train[:5000] / 255.0\n",
    "y_test, y_train = y_train[:5000] / 255.0, y_train[:5000] / 255.0\n",
    "\n",
    "#X_train = X_train.reshape(X_train.shape[0], 1, 28, 28) / 255.0 - 0.5\n",
    "#X_test = X_test.reshape(X_test.shape[0], 1, 28, 28) / 255.0 - 0.5\n",
    "\n",
    "# One-Hot Encoding\n",
    "y_train_OHE = keras.utils.to_categorical(y_train, 10)\n",
    "y_test_OHE = keras.utils.to_categorical(y_test, 10)"
   ]
  },
  {
   "cell_type": "code",
   "execution_count": 4,
   "id": "16ef825d-7066-4880-918f-0ffc1e00d3e2",
   "metadata": {},
   "outputs": [],
   "source": [
    "from sklearn.linear_model import LogisticRegression, SGDClassifier\n",
    "from sklearn.neighbors import KNeighborsClassifier\n",
    "from sklearn.pipeline import make_pipeline\n",
    "from sklearn import ensemble, tree\n",
    "\n",
    "models = {}\n",
    "\n",
    "#sgd_pipe = make_pipeline(StandardScaler(), SGDClassifier())\n",
    "#sgd_pipe.fit(X_train)\n",
    "#sgd_pipe.predict(X_test)\n",
    "\n",
    "models[\"DecTree\"] = tree.DecisionTreeClassifier()\n",
    "models[\"RandForest\"] = ensemble.RandomForestClassifier(n_estimators=250)\n",
    "\n",
    "models[\"KNeighbors\"] = KNeighborsClassifier()\n",
    "\n",
    "models[\"SGD\"] = SGDClassifier(loss=\"hinge\", penalty=\"l2\")\n",
    "models[\"lbfgs_LR\"] = LogisticRegression(multi_class=\"multinomial\", solver=\"lbfgs\", max_iter=300)\n",
    "models[\"newton-cg_LR\"] = LogisticRegression(multi_class=\"multinomial\", solver=\"newton-cg\", max_iter=300)"
   ]
  },
  {
   "cell_type": "code",
   "execution_count": 5,
   "id": "0c15bcff-29e4-418e-b5d3-9c6de895a906",
   "metadata": {},
   "outputs": [],
   "source": [
    "from sklearn.metrics import accuracy_score, mean_squared_error\n",
    "from sklearn.linear_model import LogisticRegression as SK_LogisticRegression\n",
    "\n",
    "ss = StandardScaler()\n",
    "lr_lr = SK_LogisticRegression()\n",
    "\n",
    "#lr_lr.fit(X_train, y_train)\n",
    "#yhat = lr_lr.predict(X_test)\n",
    "#print('Accuracy of:',accuracy_score(y_test,yhat))"
   ]
  },
  {
   "cell_type": "code",
   "execution_count": null,
   "id": "93f607c5-82dd-4109-aca5-a0c5434438c9",
   "metadata": {},
   "outputs": [],
   "source": []
  }
 ],
 "metadata": {
  "kernelspec": {
   "display_name": "Python 3 (ipykernel)",
   "language": "python",
   "name": "python3"
  },
  "language_info": {
   "codemirror_mode": {
    "name": "ipython",
    "version": 3
   },
   "file_extension": ".py",
   "mimetype": "text/x-python",
   "name": "python",
   "nbconvert_exporter": "python",
   "pygments_lexer": "ipython3",
   "version": "3.8.8"
  }
 },
 "nbformat": 4,
 "nbformat_minor": 5
}
